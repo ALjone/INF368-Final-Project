{
  "nbformat": 4,
  "nbformat_minor": 0,
  "metadata": {
    "colab": {
      "name": "Bert.ipynb",
      "provenance": [],
      "collapsed_sections": []
    },
    "kernelspec": {
      "name": "python3",
      "display_name": "Python 3"
    },
    "language_info": {
      "name": "python"
    },
    "accelerator": "GPU"
  },
  "cells": [
    {
      "cell_type": "code",
      "metadata": {
        "colab": {
          "base_uri": "https://localhost:8080/"
        },
        "id": "5r-_hiPRW14r",
        "outputId": "34d550ef-540b-49c2-a447-74922ddfc048"
      },
      "source": [
        "! git clone https://github.com/ALjone/INF368-Final-Project\n",
        "\n",
        "# A dependency of the preprocessing for BERT inputs\n",
        "!pip install -q -U tensorflow-text\n",
        "!pip install -q tf-models-official"
      ],
      "execution_count": 1,
      "outputs": [
        {
          "output_type": "stream",
          "name": "stdout",
          "text": [
            "Cloning into 'INF368-Final-Project'...\n",
            "remote: Enumerating objects: 153, done.\u001b[K\n",
            "remote: Counting objects: 100% (153/153), done.\u001b[K\n",
            "remote: Compressing objects: 100% (132/132), done.\u001b[K\n",
            "remote: Total 153 (delta 71), reused 35 (delta 16), pack-reused 0\u001b[K\n",
            "Receiving objects: 100% (153/153), 3.57 MiB | 4.49 MiB/s, done.\n",
            "Resolving deltas: 100% (71/71), done.\n",
            "\u001b[K     |████████████████████████████████| 4.4 MB 4.6 MB/s \n",
            "\u001b[K     |████████████████████████████████| 1.8 MB 5.4 MB/s \n",
            "\u001b[K     |████████████████████████████████| 90 kB 9.0 MB/s \n",
            "\u001b[K     |████████████████████████████████| 43 kB 2.0 MB/s \n",
            "\u001b[K     |████████████████████████████████| 596 kB 38.6 MB/s \n",
            "\u001b[K     |████████████████████████████████| 1.1 MB 41.6 MB/s \n",
            "\u001b[K     |████████████████████████████████| 47.6 MB 33 kB/s \n",
            "\u001b[K     |████████████████████████████████| 1.2 MB 41.1 MB/s \n",
            "\u001b[K     |████████████████████████████████| 213 kB 37.0 MB/s \n",
            "\u001b[K     |████████████████████████████████| 352 kB 43.4 MB/s \n",
            "\u001b[K     |████████████████████████████████| 99 kB 8.7 MB/s \n",
            "\u001b[?25h  Building wheel for py-cpuinfo (setup.py) ... \u001b[?25l\u001b[?25hdone\n",
            "  Building wheel for seqeval (setup.py) ... \u001b[?25l\u001b[?25hdone\n"
          ]
        }
      ]
    },
    {
      "cell_type": "code",
      "metadata": {
        "id": "25nvpKfOW65n"
      },
      "source": [
        "import sys\n",
        "import numpy as np\n",
        "import pandas as pd\n",
        "sys.path.append(\"/content/INF368-Final-Project\")\n",
        "from Bert import Bert"
      ],
      "execution_count": 2,
      "outputs": []
    },
    {
      "cell_type": "code",
      "metadata": {
        "id": "B3jus_QKXPF0",
        "colab": {
          "base_uri": "https://localhost:8080/"
        },
        "outputId": "ee81afa0-cb64-43c9-a4c5-211bd6dde920"
      },
      "source": [
        "batch_size = 4\n",
        "seed = 0\n",
        "learning_rate = 5e-4\n",
        "epochs=5\n",
        "bert = Bert(num_classes = 2, random_state = seed)"
      ],
      "execution_count": 3,
      "outputs": [
        {
          "output_type": "stream",
          "name": "stdout",
          "text": [
            "BERT model selected           : https://tfhub.dev/tensorflow/bert_en_cased_L-12_H-768_A-12/3\n",
            "Preprocess model auto-selected: https://tfhub.dev/tensorflow/bert_en_cased_preprocess/3\n"
          ]
        }
      ]
    },
    {
      "cell_type": "code",
      "metadata": {
        "colab": {
          "base_uri": "https://localhost:8080/"
        },
        "id": "GKfEk0ZTYyzU",
        "outputId": "7a7b9cad-632c-4519-beb5-8877621aaeee"
      },
      "source": [
        "#bert.train_from_path(\"/content/INF368-Final-Project/data/train_labeled.csv\",learning_rate= 0.001,batch_size = batch_size,epochs = 2)\n",
        "train = pd.read_csv(\"/content/INF368-Final-Project/data/train_labeled.csv\")\n",
        "bert.train(train.text, train.label,learning_rate=learning_rate,batch_size=batch_size,epochs=epochs)\n",
        "\n",
        "test = pd.read_csv(\"/content/INF368-Final-Project/data/test.csv\")\n",
        "\n",
        "#bert.evalueate(test)\n",
        "print(bert.predict_label_proba(test.text[:10]))\n"
      ],
      "execution_count": 4,
      "outputs": [
        {
          "output_type": "stream",
          "name": "stdout",
          "text": [
            "Epoch 1/10\n",
            "30/30 [==============================] - 31s 306ms/step - loss: 0.7261 - accuracy: 0.5917\n",
            "Epoch 2/10\n",
            "30/30 [==============================] - 9s 305ms/step - loss: 0.6590 - accuracy: 0.6167\n",
            "Epoch 3/10\n",
            "30/30 [==============================] - 9s 307ms/step - loss: 0.5187 - accuracy: 0.7750\n",
            "Epoch 4/10\n",
            "30/30 [==============================] - 9s 307ms/step - loss: 0.3542 - accuracy: 0.8917\n",
            "Epoch 5/10\n",
            "30/30 [==============================] - 9s 308ms/step - loss: 0.2186 - accuracy: 0.9083\n",
            "Epoch 6/10\n",
            "30/30 [==============================] - 9s 307ms/step - loss: 0.1303 - accuracy: 0.9500\n",
            "Epoch 7/10\n",
            "30/30 [==============================] - 9s 307ms/step - loss: 0.0735 - accuracy: 0.9833\n",
            "Epoch 8/10\n",
            "30/30 [==============================] - 9s 306ms/step - loss: 0.0590 - accuracy: 0.9833\n",
            "Epoch 9/10\n",
            "30/30 [==============================] - 9s 307ms/step - loss: 0.0888 - accuracy: 0.9750\n",
            "Epoch 10/10\n",
            "30/30 [==============================] - 9s 306ms/step - loss: 0.0385 - accuracy: 0.9833\n",
            "[('neg', 0.96058595), ('neg', 0.9963129), ('neg', 0.9802453), ('neg', 0.7717757), ('pos', 0.993956), ('pos', 0.61371374), ('pos', 0.9988919), ('pos', 0.8945707), ('neg', 0.9964749), ('neg', 0.99627507)]\n"
          ]
        }
      ]
    }
  ]
}