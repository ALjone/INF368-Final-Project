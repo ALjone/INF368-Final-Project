{
 "cells": [
  {
   "cell_type": "code",
   "execution_count": 1,
   "metadata": {
    "colab": {
     "base_uri": "https://localhost:8080/"
    },
    "id": "uEvkHKWV71ua",
    "outputId": "5cf022c0-a111-4377-eb10-a827c2e7a201"
   },
   "outputs": [],
   "source": [
    "#!wget https://raw.githubusercontent.com/ALjone/INF368-Final-Project/main/Datahandler.py"
   ]
  },
  {
   "cell_type": "code",
   "execution_count": 2,
   "metadata": {
    "id": "KStEf5aqwXQz"
   },
   "outputs": [],
   "source": [
    "import tensorflow as tf\n",
    "import os\n",
    "os.chdir('..')\n",
    "from Datahandler import Get_IMDB_data\n",
    "from Datahandler import Get_medical_data\n",
    "import pandas as pd"
   ]
  },
  {
   "cell_type": "code",
   "execution_count": 3,
   "metadata": {
    "id": "z0piPBz_7-qJ"
   },
   "outputs": [],
   "source": [
    "url = 'https://ai.stanford.edu/~amaas/data/sentiment/aclImdb_v1.tar.gz'\n",
    "\n",
    "dataset = tf.keras.utils.get_file('aclImdb_v1.tar.gz', url,\n",
    "                                  untar=True, cache_dir='.',\n",
    "                                  cache_subdir='')\n",
    "\n",
    "dataset_dir = os.path.join(os.path.dirname(dataset), 'aclImdb')\n",
    "\n",
    "\n",
    "\n"
   ]
  },
  {
   "cell_type": "code",
   "execution_count": 4,
   "metadata": {
    "id": "z8Jfryz1rBff"
   },
   "outputs": [],
   "source": [
    "if not os.path.exists('data'):\n",
    "    os.mkdir(\"data\")\n",
    "if not os.path.exists('data/imdb'):\n",
    "    os.mkdir('data/imdb')\n",
    "get_IMDB_data = Get_IMDB_data(\"aclImdb\",random_state=0)\n",
    "get_IMDB_data.create_datasets(path_to = \"data/imdb\",labeled_size=[5,10,25,50],unlabeled_size= 5000,test_size=500)\n"
   ]
  },
  {
   "cell_type": "code",
   "execution_count": 5,
   "metadata": {
    "id": "IgGLg_kOxhg3"
   },
   "outputs": [],
   "source": [
    "if not os.path.exists('data'):\n",
    "    os.mkdir(\"data\")\n",
    "if not os.path.exists('data/medical'):\n",
    "    os.mkdir('data/medical')\n",
    "get_medical_data = Get_medical_data(\"data/medical/raw\",\"data/medical\" ,random_state=0)\n",
    "get_medical_data.create_datasets(labeled_size=[5,10,25,50])\n"
   ]
  },
  {
   "cell_type": "code",
   "execution_count": null,
   "metadata": {},
   "outputs": [],
   "source": []
  }
 ],
 "metadata": {
  "colab": {
   "collapsed_sections": [],
   "name": "Untitled3.ipynb",
   "provenance": []
  },
  "kernelspec": {
   "display_name": "Python 3 (ipykernel)",
   "language": "python",
   "name": "python3"
  },
  "language_info": {
   "codemirror_mode": {
    "name": "ipython",
    "version": 3
   },
   "file_extension": ".py",
   "mimetype": "text/x-python",
   "name": "python",
   "nbconvert_exporter": "python",
   "pygments_lexer": "ipython3",
   "version": "3.7.10"
  }
 },
 "nbformat": 4,
 "nbformat_minor": 4
}
