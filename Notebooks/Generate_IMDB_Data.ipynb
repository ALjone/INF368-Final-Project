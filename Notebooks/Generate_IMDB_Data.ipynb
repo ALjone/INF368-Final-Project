{
  "nbformat": 4,
  "nbformat_minor": 0,
  "metadata": {
    "colab": {
      "name": "Untitled3.ipynb",
      "provenance": [],
      "collapsed_sections": []
    },
    "kernelspec": {
      "name": "python3",
      "display_name": "Python 3"
    },
    "language_info": {
      "name": "python"
    }
  },
  "cells": [
    {
      "cell_type": "code",
      "metadata": {
        "id": "uEvkHKWV71ua",
        "colab": {
          "base_uri": "https://localhost:8080/"
        },
        "outputId": "5cf022c0-a111-4377-eb10-a827c2e7a201"
      },
      "source": [
        "!wget https://raw.githubusercontent.com/ALjone/INF368-Final-Project/main/Datahandler.py"
      ],
      "execution_count": 1,
      "outputs": [
        {
          "output_type": "stream",
          "name": "stdout",
          "text": [
            "--2021-11-09 08:15:15--  https://raw.githubusercontent.com/ALjone/INF368-Final-Project/main/Datahandler.py\n",
            "Resolving raw.githubusercontent.com (raw.githubusercontent.com)... 185.199.109.133, 185.199.111.133, 185.199.110.133, ...\n",
            "Connecting to raw.githubusercontent.com (raw.githubusercontent.com)|185.199.109.133|:443... connected.\n",
            "HTTP request sent, awaiting response... 200 OK\n",
            "Length: 4424 (4.3K) [text/plain]\n",
            "Saving to: ‘Datahandler.py’\n",
            "\n",
            "\rDatahandler.py        0%[                    ]       0  --.-KB/s               \rDatahandler.py      100%[===================>]   4.32K  --.-KB/s    in 0s      \n",
            "\n",
            "2021-11-09 08:15:15 (46.1 MB/s) - ‘Datahandler.py’ saved [4424/4424]\n",
            "\n"
          ]
        }
      ]
    },
    {
      "cell_type": "code",
      "metadata": {
        "id": "KStEf5aqwXQz"
      },
      "source": [
        "from Datahandler import Get_IMDB_data\n",
        "import tensorflow as tf\n",
        "import os"
      ],
      "execution_count": 6,
      "outputs": []
    },
    {
      "cell_type": "code",
      "metadata": {
        "id": "z0piPBz_7-qJ"
      },
      "source": [
        "url = 'https://ai.stanford.edu/~amaas/data/sentiment/aclImdb_v1.tar.gz'\n",
        "\n",
        "dataset = tf.keras.utils.get_file('aclImdb_v1.tar.gz', url,\n",
        "                                  untar=True, cache_dir='.',\n",
        "                                  cache_subdir='')\n",
        "\n",
        "dataset_dir = os.path.join(os.path.dirname(dataset), 'aclImdb')\n",
        "\n",
        "\n",
        "\n"
      ],
      "execution_count": 7,
      "outputs": []
    },
    {
      "cell_type": "code",
      "metadata": {
        "id": "z8Jfryz1rBff"
      },
      "source": [
        "if not os.path.exists('data'):\n",
        "  os.mkdir(\"./data\")\n",
        "get_IMDB_data = Get_IMDB_data(\"/content/aclImdb\",random_state=0)\n",
        "get_IMDB_data.create_datasets(labeled_size=[5,10,25,50],unlabeled_size= 500,test_size=500)\n"
      ],
      "execution_count": 8,
      "outputs": []
    },
    {
      "cell_type": "code",
      "metadata": {
        "id": "IgGLg_kOxhg3"
      },
      "source": [
        ""
      ],
      "execution_count": null,
      "outputs": []
    }
  ]
}
