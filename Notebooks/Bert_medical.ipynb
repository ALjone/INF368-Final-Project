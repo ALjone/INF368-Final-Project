{
 "cells": [
  {
   "cell_type": "code",
   "execution_count": 1,
   "metadata": {
    "colab": {
     "base_uri": "https://localhost:8080/"
    },
    "id": "uEvkHKWV71ua",
    "outputId": "4a527e9c-3c05-49f8-aad3-d4f26b384928"
   },
   "outputs": [],
   "source": [
    "#! git clone https://github.com/ALjone/INF368-Final-Project\n",
    "\n",
    "# A dependency of the preprocessing for BERT inputs\n",
    "!pip install -q -U tensorflow-text\n",
    "!pip install -q tf-models-official"
   ]
  },
  {
   "cell_type": "code",
   "execution_count": 2,
   "metadata": {
    "id": "KStEf5aqwXQz"
   },
   "outputs": [],
   "source": [
    "import sys\n",
    "import numpy as np\n",
    "import pandas as pd\n",
    "import os\n",
    "os.chdir('..')\n",
    "from Bert import Bert\n"
   ]
  },
  {
   "cell_type": "code",
   "execution_count": 3,
   "metadata": {
    "id": "YycaUlL17829"
   },
   "outputs": [],
   "source": [
    "data_path = \"data/medical\"\n",
    "files = os.listdir(data_path)\n",
    "labeled_files = [data_path+\"/\"+file for file in files if \"train_labeled\" in file]\n",
    "test_path = data_path+\"/test.csv\""
   ]
  },
  {
   "cell_type": "code",
   "execution_count": 8,
   "metadata": {
    "id": "IgGLg_kOxhg3"
   },
   "outputs": [],
   "source": [
    "batch_size = 4\n",
    "seed = 1\n",
    "learning_rate = 5e-5\n",
    "epochs=5\n",
    "results=pd.DataFrame(columns=[\"n_per_class\", \"accuracy\"])\n"
   ]
  },
  {
   "cell_type": "code",
   "execution_count": 9,
   "metadata": {
    "colab": {
     "base_uri": "https://localhost:8080/"
    },
    "id": "3xITIE4h-5NO",
    "outputId": "05d1ac3a-8a14-45c8-adfe-aa60d6fb9df6"
   },
   "outputs": [
    {
     "name": "stdout",
     "output_type": "stream",
     "text": [
      "BERT model selected           : https://tfhub.dev/tensorflow/bert_en_cased_L-12_H-768_A-12/3\n",
      "Preprocess model auto-selected: https://tfhub.dev/tensorflow/bert_en_cased_preprocess/3\n",
      "data/medical/train_labeled_5.csv\n",
      "Epoch 1/5\n"
     ]
    },
    {
     "name": "stderr",
     "output_type": "stream",
     "text": [
      "/home/jovyan/workspace/INF368-Final-Project/Bert.py:194: SettingWithCopyWarning: \n",
      "A value is trying to be set on a copy of a slice from a DataFrame\n",
      "\n",
      "See the caveats in the documentation: https://pandas.pydata.org/pandas-docs/stable/user_guide/indexing.html#returning-a-view-versus-a-copy\n",
      "  data.label[data.label==label] = number\n"
     ]
    },
    {
     "name": "stdout",
     "output_type": "stream",
     "text": [
      "7/7 [==============================] - 25s 261ms/step - loss: 1.5505 - accuracy: 0.3200\n",
      "Epoch 2/5\n",
      "7/7 [==============================] - 2s 258ms/step - loss: 1.0918 - accuracy: 0.6000\n",
      "Epoch 3/5\n",
      "7/7 [==============================] - 2s 260ms/step - loss: 0.8745 - accuracy: 0.6400\n",
      "Epoch 4/5\n",
      "7/7 [==============================] - 2s 257ms/step - loss: 0.6929 - accuracy: 0.6800\n",
      "Epoch 5/5\n",
      "7/7 [==============================] - 2s 259ms/step - loss: 0.5677 - accuracy: 0.7600\n",
      "500/500 [==============================] - 17s 32ms/step - loss: 0.9905 - accuracy: 0.5980\n",
      "BERT model selected           : https://tfhub.dev/tensorflow/bert_en_cased_L-12_H-768_A-12/3\n",
      "Preprocess model auto-selected: https://tfhub.dev/tensorflow/bert_en_cased_preprocess/3\n",
      "data/medical/train_labeled_10.csv\n",
      "Epoch 1/5\n",
      "13/13 [==============================] - 27s 277ms/step - loss: 1.9874 - accuracy: 0.2400\n",
      "Epoch 2/5\n",
      "13/13 [==============================] - 4s 272ms/step - loss: 1.8188 - accuracy: 0.1000\n",
      "Epoch 3/5\n",
      "13/13 [==============================] - 4s 273ms/step - loss: 1.4007 - accuracy: 0.4000\n",
      "Epoch 4/5\n",
      "13/13 [==============================] - 4s 274ms/step - loss: 1.0816 - accuracy: 0.6400\n",
      "Epoch 5/5\n",
      "13/13 [==============================] - 4s 272ms/step - loss: 0.8258 - accuracy: 0.8000\n",
      "500/500 [==============================] - 18s 32ms/step - loss: 1.6588 - accuracy: 0.2860\n",
      "BERT model selected           : https://tfhub.dev/tensorflow/bert_en_cased_L-12_H-768_A-12/3\n",
      "Preprocess model auto-selected: https://tfhub.dev/tensorflow/bert_en_cased_preprocess/3\n",
      "data/medical/train_labeled_25.csv\n",
      "Epoch 1/5\n",
      "32/32 [==============================] - 33s 277ms/step - loss: 1.2231 - accuracy: 0.5200\n",
      "Epoch 2/5\n",
      "32/32 [==============================] - 9s 276ms/step - loss: 0.9925 - accuracy: 0.5760\n",
      "Epoch 3/5\n",
      "32/32 [==============================] - 9s 275ms/step - loss: 0.6355 - accuracy: 0.8000\n",
      "Epoch 4/5\n",
      "32/32 [==============================] - 9s 276ms/step - loss: 0.2514 - accuracy: 0.9360\n",
      "Epoch 5/5\n",
      "32/32 [==============================] - 9s 276ms/step - loss: 0.1350 - accuracy: 0.9680\n",
      "500/500 [==============================] - 17s 32ms/step - loss: 1.2585 - accuracy: 0.6220\n",
      "BERT model selected           : https://tfhub.dev/tensorflow/bert_en_cased_L-12_H-768_A-12/3\n",
      "Preprocess model auto-selected: https://tfhub.dev/tensorflow/bert_en_cased_preprocess/3\n",
      "data/medical/train_labeled_50.csv\n",
      "Epoch 1/5\n",
      "63/63 [==============================] - 37s 279ms/step - loss: 1.6345 - accuracy: 0.3000\n",
      "Epoch 2/5\n",
      "63/63 [==============================] - 18s 278ms/step - loss: 1.4108 - accuracy: 0.3920\n",
      "Epoch 3/5\n",
      "63/63 [==============================] - 18s 279ms/step - loss: 0.8330 - accuracy: 0.7080\n",
      "Epoch 4/5\n",
      "63/63 [==============================] - 18s 279ms/step - loss: 0.4739 - accuracy: 0.8040\n",
      "Epoch 5/5\n",
      "63/63 [==============================] - 18s 279ms/step - loss: 0.2845 - accuracy: 0.9040\n",
      "500/500 [==============================] - 17s 32ms/step - loss: 1.3857 - accuracy: 0.6340\n"
     ]
    }
   ],
   "source": [
    "for n_per_class in [5,10,25,50]:\n",
    "  data_file = \"\"\n",
    "  result = {\"n_per_class\":n_per_class}\n",
    "  bert = Bert(num_classes = 5, random_state = seed)\n",
    "  for file in labeled_files:\n",
    "    if f\"train_labeled_{n_per_class}.csv\" in file:\n",
    "      data_file = file\n",
    "      break\n",
    "  print(data_file)\n",
    "  bert.train_from_path(data_file,learning_rate=learning_rate,batch_size=batch_size,epochs=epochs)\n",
    "  performance = bert.evaluate_from_path(test_path)\n",
    "  result[\"accuracy\"] = performance[1]\n",
    "  results = results.append(result,ignore_index=True)\n",
    "\n",
    "    \n"
   ]
  },
  {
   "cell_type": "code",
   "execution_count": 6,
   "metadata": {
    "colab": {
     "base_uri": "https://localhost:8080/",
     "height": 171
    },
    "id": "LZGVYA2GcoCU",
    "outputId": "8dc78616-4d26-4fa2-d406-41172b439228"
   },
   "outputs": [
    {
     "data": {
      "text/html": [
       "<div>\n",
       "<style scoped>\n",
       "    .dataframe tbody tr th:only-of-type {\n",
       "        vertical-align: middle;\n",
       "    }\n",
       "\n",
       "    .dataframe tbody tr th {\n",
       "        vertical-align: top;\n",
       "    }\n",
       "\n",
       "    .dataframe thead th {\n",
       "        text-align: right;\n",
       "    }\n",
       "</style>\n",
       "<table border=\"1\" class=\"dataframe\">\n",
       "  <thead>\n",
       "    <tr style=\"text-align: right;\">\n",
       "      <th></th>\n",
       "      <th>n_per_class</th>\n",
       "      <th>accuracy</th>\n",
       "    </tr>\n",
       "  </thead>\n",
       "  <tbody>\n",
       "    <tr>\n",
       "      <th>0</th>\n",
       "      <td>5.0</td>\n",
       "      <td>0.600</td>\n",
       "    </tr>\n",
       "    <tr>\n",
       "      <th>1</th>\n",
       "      <td>10.0</td>\n",
       "      <td>0.372</td>\n",
       "    </tr>\n",
       "    <tr>\n",
       "      <th>2</th>\n",
       "      <td>25.0</td>\n",
       "      <td>0.584</td>\n",
       "    </tr>\n",
       "    <tr>\n",
       "      <th>3</th>\n",
       "      <td>50.0</td>\n",
       "      <td>0.652</td>\n",
       "    </tr>\n",
       "  </tbody>\n",
       "</table>\n",
       "</div>"
      ],
      "text/plain": [
       "   n_per_class  accuracy\n",
       "0          5.0     0.600\n",
       "1         10.0     0.372\n",
       "2         25.0     0.584\n",
       "3         50.0     0.652"
      ]
     },
     "execution_count": 6,
     "metadata": {},
     "output_type": "execute_result"
    }
   ],
   "source": [
    "results"
   ]
  },
  {
   "cell_type": "code",
   "execution_count": 7,
   "metadata": {
    "id": "gZNtDZIgDXhw"
   },
   "outputs": [],
   "source": [
    "if not os.path.exists('results'):\n",
    "      os.mkdir('results')\n",
    "results.to_csv(\"results/bert_results_medical.csv\")"
   ]
  },
  {
   "cell_type": "code",
   "execution_count": null,
   "metadata": {
    "id": "4W7Jbzd6W_Kc"
   },
   "outputs": [],
   "source": []
  }
 ],
 "metadata": {
  "accelerator": "GPU",
  "colab": {
   "collapsed_sections": [],
   "name": "Bert.ipynb",
   "provenance": []
  },
  "kernelspec": {
   "display_name": "Python 3 (ipykernel)",
   "language": "python",
   "name": "python3"
  },
  "language_info": {
   "codemirror_mode": {
    "name": "ipython",
    "version": 3
   },
   "file_extension": ".py",
   "mimetype": "text/x-python",
   "name": "python",
   "nbconvert_exporter": "python",
   "pygments_lexer": "ipython3",
   "version": "3.7.10"
  }
 },
 "nbformat": 4,
 "nbformat_minor": 4
}
