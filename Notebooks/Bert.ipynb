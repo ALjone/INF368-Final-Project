{
  "nbformat": 4,
  "nbformat_minor": 0,
  "metadata": {
    "colab": {
      "name": "Bert.ipynb",
      "provenance": [],
      "collapsed_sections": []
    },
    "kernelspec": {
      "name": "python3",
      "display_name": "Python 3"
    },
    "language_info": {
      "name": "python"
    },
    "accelerator": "GPU"
  },
  "cells": [
    {
      "cell_type": "code",
      "metadata": {
        "id": "uEvkHKWV71ua",
        "colab": {
          "base_uri": "https://localhost:8080/"
        },
        "outputId": "4a527e9c-3c05-49f8-aad3-d4f26b384928"
      },
      "source": [
        "! git clone https://github.com/ALjone/INF368-Final-Project\n",
        "\n",
        "# A dependency of the preprocessing for BERT inputs\n",
        "!pip install -q -U tensorflow-text\n",
        "!pip install -q tf-models-official"
      ],
      "execution_count": 1,
      "outputs": [
        {
          "output_type": "stream",
          "name": "stdout",
          "text": [
            "fatal: destination path 'INF368-Final-Project' already exists and is not an empty directory.\n"
          ]
        }
      ]
    },
    {
      "cell_type": "code",
      "metadata": {
        "id": "KStEf5aqwXQz"
      },
      "source": [
        "import sys\n",
        "import numpy as np\n",
        "import pandas as pd\n",
        "sys.path.append(\"/content/INF368-Final-Project\")\n",
        "from Bert import Bert\n",
        "import os"
      ],
      "execution_count": 2,
      "outputs": []
    },
    {
      "cell_type": "code",
      "metadata": {
        "id": "YycaUlL17829"
      },
      "source": [
        "data_path = \"/content/INF368-Final-Project/data\"\n",
        "files = os.listdir(data_path)\n",
        "labeled_files = [data_path+\"/\"+file for file in files if \"train_labeled\" in file]"
      ],
      "execution_count": 3,
      "outputs": []
    },
    {
      "cell_type": "code",
      "metadata": {
        "id": "IgGLg_kOxhg3"
      },
      "source": [
        "batch_size = 4\n",
        "seed = 0\n",
        "learning_rate = 5e-5\n",
        "epochs=5\n",
        "results=pd.DataFrame(columns=[\"n_per_class\", \"accuracy\"])\n"
      ],
      "execution_count": 4,
      "outputs": []
    },
    {
      "cell_type": "code",
      "metadata": {
        "colab": {
          "base_uri": "https://localhost:8080/"
        },
        "id": "3xITIE4h-5NO",
        "outputId": "05d1ac3a-8a14-45c8-adfe-aa60d6fb9df6"
      },
      "source": [
        "for n_per_class in [5,10,25,50]:\n",
        "  data_file = \"\"\n",
        "  result = {\"n_per_class\":n_per_class}\n",
        "  bert = Bert(num_classes = 2, random_state = seed)\n",
        "  for file in labeled_files:\n",
        "    if f\"train_labeled_{n_per_class}.csv\" in file:\n",
        "      data_file = file\n",
        "      break\n",
        "  print(data_file)\n",
        "  bert.train_from_path(data_file,learning_rate=learning_rate,batch_size=batch_size,epochs=epochs)\n",
        "  performance = bert.evaluate_from_path(data_path+\"/test.csv\")\n",
        "  result[\"accuracy\"] = performance[1]\n",
        "  results = results.append(result,ignore_index=True)\n",
        "\n",
        "    \n"
      ],
      "execution_count": 5,
      "outputs": [
        {
          "output_type": "stream",
          "name": "stdout",
          "text": [
            "BERT model selected           : https://tfhub.dev/tensorflow/bert_en_cased_L-12_H-768_A-12/3\n",
            "Preprocess model auto-selected: https://tfhub.dev/tensorflow/bert_en_cased_preprocess/3\n",
            "/content/INF368-Final-Project/data/train_labeled_5.csv\n",
            "Epoch 1/5\n",
            "3/3 [==============================] - 21s 274ms/step - loss: 0.8665 - accuracy: 0.5000\n",
            "Epoch 2/5\n",
            "3/3 [==============================] - 1s 265ms/step - loss: 0.7523 - accuracy: 0.6000\n",
            "Epoch 3/5\n",
            "3/3 [==============================] - 1s 261ms/step - loss: 0.9101 - accuracy: 0.5000\n",
            "Epoch 4/5\n",
            "3/3 [==============================] - 1s 266ms/step - loss: 0.2671 - accuracy: 1.0000\n",
            "Epoch 5/5\n",
            "3/3 [==============================] - 1s 258ms/step - loss: 0.2608 - accuracy: 1.0000\n",
            "500/500 [==============================] - 20s 38ms/step - loss: 0.6965 - accuracy: 0.5600\n",
            "BERT model selected           : https://tfhub.dev/tensorflow/bert_en_cased_L-12_H-768_A-12/3\n",
            "Preprocess model auto-selected: https://tfhub.dev/tensorflow/bert_en_cased_preprocess/3\n",
            "/content/INF368-Final-Project/data/train_labeled_10.csv\n",
            "Epoch 1/5\n",
            "5/5 [==============================] - 21s 316ms/step - loss: 0.7056 - accuracy: 0.6500\n",
            "Epoch 2/5\n",
            "5/5 [==============================] - 2s 302ms/step - loss: 0.8011 - accuracy: 0.6000\n",
            "Epoch 3/5\n",
            "5/5 [==============================] - 2s 303ms/step - loss: 0.4035 - accuracy: 0.9000\n",
            "Epoch 4/5\n",
            "5/5 [==============================] - 1s 298ms/step - loss: 0.2326 - accuracy: 1.0000\n",
            "Epoch 5/5\n",
            "5/5 [==============================] - 1s 298ms/step - loss: 0.1664 - accuracy: 1.0000\n",
            "500/500 [==============================] - 20s 37ms/step - loss: 0.7127 - accuracy: 0.5960\n",
            "BERT model selected           : https://tfhub.dev/tensorflow/bert_en_cased_L-12_H-768_A-12/3\n",
            "Preprocess model auto-selected: https://tfhub.dev/tensorflow/bert_en_cased_preprocess/3\n",
            "/content/INF368-Final-Project/data/train_labeled_25.csv\n",
            "Epoch 1/5\n",
            "13/13 [==============================] - 23s 296ms/step - loss: 0.8833 - accuracy: 0.5800\n",
            "Epoch 2/5\n",
            "13/13 [==============================] - 4s 293ms/step - loss: 1.1099 - accuracy: 0.5000\n",
            "Epoch 3/5\n",
            "13/13 [==============================] - 4s 294ms/step - loss: 0.8956 - accuracy: 0.4400\n",
            "Epoch 4/5\n",
            "13/13 [==============================] - 4s 295ms/step - loss: 0.6099 - accuracy: 0.6800\n",
            "Epoch 5/5\n",
            "13/13 [==============================] - 4s 294ms/step - loss: 0.5378 - accuracy: 0.7600\n",
            "500/500 [==============================] - 20s 38ms/step - loss: 0.6097 - accuracy: 0.6780\n",
            "BERT model selected           : https://tfhub.dev/tensorflow/bert_en_cased_L-12_H-768_A-12/3\n",
            "Preprocess model auto-selected: https://tfhub.dev/tensorflow/bert_en_cased_preprocess/3\n",
            "/content/INF368-Final-Project/data/train_labeled_50.csv\n",
            "Epoch 1/5\n",
            "25/25 [==============================] - 30s 303ms/step - loss: 0.8930 - accuracy: 0.4700\n",
            "Epoch 2/5\n",
            "25/25 [==============================] - 7s 300ms/step - loss: 0.6895 - accuracy: 0.5900\n",
            "Epoch 3/5\n",
            "25/25 [==============================] - 7s 300ms/step - loss: 0.5916 - accuracy: 0.6200\n",
            "Epoch 4/5\n",
            "25/25 [==============================] - 8s 301ms/step - loss: 0.2806 - accuracy: 0.8400\n",
            "Epoch 5/5\n",
            "25/25 [==============================] - 8s 302ms/step - loss: 0.0600 - accuracy: 0.9700\n",
            "500/500 [==============================] - 20s 38ms/step - loss: 0.8553 - accuracy: 0.7980\n"
          ]
        }
      ]
    },
    {
      "cell_type": "code",
      "metadata": {
        "id": "gZNtDZIgDXhw"
      },
      "source": [
        "if not os.path.exists('/content/INF368-Final-Project/results'):\n",
        "      os.mkdir('/content/INF368-Final-Project/results')\n",
        "results.to_csv(\"/content/INF368-Final-Project/results/bert_results.csv\")"
      ],
      "execution_count": 8,
      "outputs": []
    },
    {
      "cell_type": "code",
      "metadata": {
        "id": "4W7Jbzd6W_Kc"
      },
      "source": [
        ""
      ],
      "execution_count": 6,
      "outputs": []
    }
  ]
}