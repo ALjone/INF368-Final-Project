{
 "cells": [
  {
   "cell_type": "code",
   "execution_count": null,
   "metadata": {
    "colab": {
     "base_uri": "https://localhost:8080/"
    },
    "id": "uEvkHKWV71ua",
    "outputId": "4a527e9c-3c05-49f8-aad3-d4f26b384928"
   },
   "outputs": [],
   "source": [
    "#! git clone https://github.com/ALjone/INF368-Final-Project\n",
    "\n",
    "# A dependency of the preprocessing for BERT inputs\n",
    "!pip install -q -U tensorflow-text\n",
    "!pip install -q tf-models-official"
   ]
  },
  {
   "cell_type": "code",
   "execution_count": null,
   "metadata": {
    "id": "KStEf5aqwXQz"
   },
   "outputs": [],
   "source": [
    "import sys\n",
    "import numpy as np\n",
    "import pandas as pd\n",
    "import os\n",
    "os.chdir('..')\n",
    "from Bert import Bert\n"
   ]
  },
  {
   "cell_type": "code",
   "execution_count": null,
   "metadata": {
    "id": "YycaUlL17829"
   },
   "outputs": [],
   "source": [
    "data_name = \"imdb\"\n",
    "num_classes = 2\n",
    "\n",
    "data_path = 'data/'+data_name\n",
    "files = os.listdir(data_path)\n",
    "labeled_files = [data_path+\"/\"+file for file in files if \"train_labeled\" in file]\n",
    "test_path = data_path+\"/test.csv\""
   ]
  },
  {
   "cell_type": "code",
   "execution_count": 4,
   "metadata": {
    "id": "IgGLg_kOxhg3"
   },
   "outputs": [],
   "source": [
    "batch_size = 4\n",
    "seed = 0\n",
    "learning_rate = 5e-5\n",
    "epochs=5\n",
    "results=pd.DataFrame(columns=[\"n_per_class\", \"accuracy\"])\n"
   ]
  },
  {
   "cell_type": "code",
   "execution_count": 5,
   "metadata": {
    "colab": {
     "base_uri": "https://localhost:8080/"
    },
    "id": "3xITIE4h-5NO",
    "outputId": "05d1ac3a-8a14-45c8-adfe-aa60d6fb9df6"
   },
   "outputs": [
    {
     "name": "stdout",
     "output_type": "stream",
     "text": [
      "BERT model selected           : https://tfhub.dev/tensorflow/bert_en_cased_L-12_H-768_A-12/3\n",
      "Preprocess model auto-selected: https://tfhub.dev/tensorflow/bert_en_cased_preprocess/3\n"
     ]
    },
    {
     "name": "stderr",
     "output_type": "stream",
     "text": [
      "2021-11-10 14:59:35.631799: I tensorflow/core/common_runtime/gpu/gpu_device.cc:1510] Created device /job:localhost/replica:0/task:0/device:GPU:0 with 10800 MB memory:  -> device: 0, name: Tesla K80, pci bus id: 0000:06:00.0, compute capability: 3.7\n",
      "2021-11-10 14:59:38.798474: I tensorflow/compiler/mlir/mlir_graph_optimization_pass.cc:185] None of the MLIR Optimization Passes are enabled (registered 2)\n"
     ]
    },
    {
     "name": "stdout",
     "output_type": "stream",
     "text": [
      "data/train_labeled_5.csv\n",
      "Epoch 1/5\n",
      "3/3 [==============================] - 21s 259ms/step - loss: 0.7919 - accuracy: 0.5000\n",
      "Epoch 2/5\n",
      "3/3 [==============================] - 1s 244ms/step - loss: 0.7129 - accuracy: 0.6000\n",
      "Epoch 3/5\n",
      "3/3 [==============================] - 1s 241ms/step - loss: 0.5712 - accuracy: 0.6000\n",
      "Epoch 4/5\n",
      "3/3 [==============================] - 1s 238ms/step - loss: 0.2225 - accuracy: 1.0000\n",
      "Epoch 5/5\n",
      "3/3 [==============================] - 1s 240ms/step - loss: 0.2366 - accuracy: 1.0000\n",
      "500/500 [==============================] - 18s 33ms/step - loss: 0.7059 - accuracy: 0.5660\n",
      "BERT model selected           : https://tfhub.dev/tensorflow/bert_en_cased_L-12_H-768_A-12/3\n",
      "Preprocess model auto-selected: https://tfhub.dev/tensorflow/bert_en_cased_preprocess/3\n",
      "data/train_labeled_10.csv\n",
      "Epoch 1/5\n",
      "5/5 [==============================] - 21s 294ms/step - loss: 0.6991 - accuracy: 0.6500\n",
      "Epoch 2/5\n",
      "5/5 [==============================] - 1s 281ms/step - loss: 0.7059 - accuracy: 0.5000\n",
      "Epoch 3/5\n",
      "5/5 [==============================] - 1s 278ms/step - loss: 0.3623 - accuracy: 0.9000\n",
      "Epoch 4/5\n",
      "5/5 [==============================] - 1s 280ms/step - loss: 0.2062 - accuracy: 1.0000\n",
      "Epoch 5/5\n",
      "5/5 [==============================] - 1s 277ms/step - loss: 0.1741 - accuracy: 1.0000\n",
      "500/500 [==============================] - 17s 32ms/step - loss: 0.7110 - accuracy: 0.5940\n",
      "BERT model selected           : https://tfhub.dev/tensorflow/bert_en_cased_L-12_H-768_A-12/3\n",
      "Preprocess model auto-selected: https://tfhub.dev/tensorflow/bert_en_cased_preprocess/3\n",
      "data/train_labeled_25.csv\n",
      "Epoch 1/5\n",
      "13/13 [==============================] - 23s 277ms/step - loss: 0.9460 - accuracy: 0.5200\n",
      "Epoch 2/5\n",
      "13/13 [==============================] - 4s 271ms/step - loss: 0.8748 - accuracy: 0.48000s - loss: 0.8748 - accuracy: 0.48\n",
      "Epoch 3/5\n",
      "13/13 [==============================] - 4s 273ms/step - loss: 0.5803 - accuracy: 0.7200\n",
      "Epoch 4/5\n",
      "13/13 [==============================] - 4s 272ms/step - loss: 0.3503 - accuracy: 0.9600\n",
      "Epoch 5/5\n",
      "13/13 [==============================] - 4s 271ms/step - loss: 0.1508 - accuracy: 1.0000\n",
      "500/500 [==============================] - 17s 32ms/step - loss: 0.5769 - accuracy: 0.6960\n",
      "BERT model selected           : https://tfhub.dev/tensorflow/bert_en_cased_L-12_H-768_A-12/3\n",
      "Preprocess model auto-selected: https://tfhub.dev/tensorflow/bert_en_cased_preprocess/3\n",
      "data/train_labeled_50.csv\n",
      "Epoch 1/5\n",
      "25/25 [==============================] - 27s 281ms/step - loss: 0.9629 - accuracy: 0.5100\n",
      "Epoch 2/5\n",
      "25/25 [==============================] - 7s 278ms/step - loss: 0.7674 - accuracy: 0.5300\n",
      "Epoch 3/5\n",
      "25/25 [==============================] - 7s 279ms/step - loss: 0.7325 - accuracy: 0.5000\n",
      "Epoch 4/5\n",
      "25/25 [==============================] - 7s 280ms/step - loss: 0.7390 - accuracy: 0.5200\n",
      "Epoch 5/5\n",
      "25/25 [==============================] - 7s 280ms/step - loss: 0.6665 - accuracy: 0.5800\n",
      "500/500 [==============================] - 17s 32ms/step - loss: 0.6391 - accuracy: 0.6880\n"
     ]
    }
   ],
   "source": [
    "for n_per_class in [5,10,25,50]:\n",
    "  data_file = \"\"\n",
    "  result = {\"n_per_class\":n_per_class}\n",
    "  bert = Bert(num_classes = 2, random_state = seed)\n",
    "  for file in labeled_files:\n",
    "    if f\"train_labeled_{n_per_class}.csv\" in file:\n",
    "      data_file = file\n",
    "      break\n",
    "  print(data_file)\n",
    "  bert.train_from_path(data_file,learning_rate=learning_rate,batch_size=batch_size,epochs=epochs)\n",
    "  performance = bert.evaluate_from_path(test_path)\n",
    "  result[\"accuracy\"] = performance[1]\n",
    "  results = results.append(result,ignore_index=True)\n",
    "\n",
    "    \n"
   ]
  },
  {
   "cell_type": "code",
   "execution_count": 6,
   "metadata": {
    "colab": {
     "base_uri": "https://localhost:8080/",
     "height": 171
    },
    "id": "LZGVYA2GcoCU",
    "outputId": "8dc78616-4d26-4fa2-d406-41172b439228"
   },
   "outputs": [
    {
     "data": {
      "text/html": [
       "<div>\n",
       "<style scoped>\n",
       "    .dataframe tbody tr th:only-of-type {\n",
       "        vertical-align: middle;\n",
       "    }\n",
       "\n",
       "    .dataframe tbody tr th {\n",
       "        vertical-align: top;\n",
       "    }\n",
       "\n",
       "    .dataframe thead th {\n",
       "        text-align: right;\n",
       "    }\n",
       "</style>\n",
       "<table border=\"1\" class=\"dataframe\">\n",
       "  <thead>\n",
       "    <tr style=\"text-align: right;\">\n",
       "      <th></th>\n",
       "      <th>n_per_class</th>\n",
       "      <th>accuracy</th>\n",
       "    </tr>\n",
       "  </thead>\n",
       "  <tbody>\n",
       "    <tr>\n",
       "      <th>0</th>\n",
       "      <td>5.0</td>\n",
       "      <td>0.566</td>\n",
       "    </tr>\n",
       "    <tr>\n",
       "      <th>1</th>\n",
       "      <td>10.0</td>\n",
       "      <td>0.594</td>\n",
       "    </tr>\n",
       "    <tr>\n",
       "      <th>2</th>\n",
       "      <td>25.0</td>\n",
       "      <td>0.696</td>\n",
       "    </tr>\n",
       "    <tr>\n",
       "      <th>3</th>\n",
       "      <td>50.0</td>\n",
       "      <td>0.688</td>\n",
       "    </tr>\n",
       "  </tbody>\n",
       "</table>\n",
       "</div>"
      ],
      "text/plain": [
       "   n_per_class  accuracy\n",
       "0          5.0     0.566\n",
       "1         10.0     0.594\n",
       "2         25.0     0.696\n",
       "3         50.0     0.688"
      ]
     },
     "execution_count": 6,
     "metadata": {},
     "output_type": "execute_result"
    }
   ],
   "source": [
    "results"
   ]
  },
  {
   "cell_type": "code",
   "execution_count": 9,
   "metadata": {
    "id": "gZNtDZIgDXhw"
   },
   "outputs": [],
   "source": [
    "if not os.path.exists('results'):\n",
    "      os.mkdir('results')\n",
    "result_path = f'results/{data_name}'\n",
    "if not os.path.exists(result_path):\n",
    "      os.mkdir(result_path)\n",
    "results.to_csv(f\"{result_path}/bert_results.csv\", index=False)"
   ]
  },
  {
   "cell_type": "code",
   "execution_count": null,
   "metadata": {
    "id": "4W7Jbzd6W_Kc"
   },
   "outputs": [],
   "source": []
  }
 ],
 "metadata": {
  "accelerator": "GPU",
  "colab": {
   "collapsed_sections": [],
   "name": "Bert.ipynb",
   "provenance": []
  },
  "kernelspec": {
   "display_name": "Python 3 (ipykernel)",
   "language": "python",
   "name": "python3"
  },
  "language_info": {
   "codemirror_mode": {
    "name": "ipython",
    "version": 3
   },
   "file_extension": ".py",
   "mimetype": "text/x-python",
   "name": "python",
   "nbconvert_exporter": "python",
   "pygments_lexer": "ipython3",
   "version": "3.7.10"
  }
 },
 "nbformat": 4,
 "nbformat_minor": 4
}
